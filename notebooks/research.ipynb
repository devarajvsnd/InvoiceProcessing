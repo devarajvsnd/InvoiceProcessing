{
 "cells": [
  {
   "cell_type": "code",
   "execution_count": 5,
   "metadata": {},
   "outputs": [],
   "source": [
    "import pandas as pd"
   ]
  },
  {
   "cell_type": "code",
   "execution_count": 6,
   "metadata": {},
   "outputs": [],
   "source": [
    "import cv2\n",
    "import numpy as np\n",
    "from PIL import Image\n",
    "\n",
    "def preprocess_image(image_path):\n",
    "    image = cv2.imread(image_path, cv2.IMREAD_GRAYSCALE)  # Convert to grayscale\n",
    "    image = cv2.GaussianBlur(image, (5, 5), 0)  # Reduce noise\n",
    "    _, thresh = cv2.threshold(image, 128, 255, cv2.THRESH_BINARY + cv2.THRESH_OTSU)  # Binarization\n",
    "    return thresh"
   ]
  },
  {
   "cell_type": "code",
   "execution_count": 13,
   "metadata": {},
   "outputs": [
    {
     "data": {
      "text/plain": [
       "True"
      ]
     },
     "execution_count": 13,
     "metadata": {},
     "output_type": "execute_result"
    }
   ],
   "source": [
    "image = preprocess_image(\"/InvoiceProcessing/data/invoice1.jpg\")\n",
    "cv2.imwrite(\"/InvoiceProcessing/data/preprocessed_invoice1.jpg\", image)"
   ]
  },
  {
   "cell_type": "code",
   "execution_count": 35,
   "metadata": {},
   "outputs": [],
   "source": [
    "import pytesseract\n",
    "\n",
    "# Manually set the path if Tesseract is not in your PATH\n",
    "pytesseract.pytesseract.tesseract_cmd = r'C:\\Program Files\\Tesseract-OCR\\tesseract.exe'  # For Windows, modify the path accordingly\n"
   ]
  },
  {
   "cell_type": "code",
   "execution_count": 36,
   "metadata": {},
   "outputs": [],
   "source": [
    "\n",
    "def extract_text(image_path):\n",
    "    image = Image.open(image_path)\n",
    "    text = pytesseract.image_to_string(image)  # Extract text from image\n",
    "    return text"
   ]
  },
  {
   "cell_type": "code",
   "execution_count": 37,
   "metadata": {},
   "outputs": [
    {
     "name": "stdout",
     "output_type": "stream",
     "text": [
      "x) Hyper Drive Fashions «6 ) @\n",
      "#167, Hyper Drive lane, 2nd Cross\n",
      "\n",
      "Sobha Apartment Road, Serjapur ORR Bellandur\n",
      "Bengaluru, Kamataka, 560103\n",
      "GSTIN: 4578425\n",
      "Customer : Anamika Deshpande Date: 12/07/2017\n",
      "Pyt. Type : Cash CR: O1\n",
      "BILL NO : Hyp-100042\n",
      "hem Name HSN = Qty. Basic Rate Total\n",
      "Colo Black Solid V 2323 2 8AT 46 1,694.92\n",
      "Neck Sweater L\n",
      "PL Sviped Blue V 3232 2 677.97 1,355.93\n",
      "Neck Sweater L\n",
      "Phosphorus Red S 3213 1 422.68 422.88\n",
      "V Neck T-Shats L\n",
      "CGST: 27458\n",
      "SGST: 27458\n",
      "CESS : 0.00\n",
      "\n",
      "Grand Total : 4,099.00\n",
      "\n",
      "THANK YOU FOR SHOPPING\n",
      "\n"
     ]
    }
   ],
   "source": [
    "text = extract_text(\"/InvoiceProcessing/data/preprocessed_invoice1.jpg\")\n",
    "print(text)"
   ]
  },
  {
   "cell_type": "code",
   "execution_count": 38,
   "metadata": {},
   "outputs": [
    {
     "data": {
      "text/plain": [
       "True"
      ]
     },
     "execution_count": 38,
     "metadata": {},
     "output_type": "execute_result"
    }
   ],
   "source": [
    "image = preprocess_image(\"/InvoiceProcessing/data/invoice2.jpg\")\n",
    "cv2.imwrite(\"/InvoiceProcessing/data/preprocessed_invoice2.jpg\", image)"
   ]
  },
  {
   "cell_type": "code",
   "execution_count": 39,
   "metadata": {},
   "outputs": [
    {
     "name": "stdout",
     "output_type": "stream",
     "text": [
      "KERALA RESTAURANT\n",
      "LeASHTTE table\n",
      "BANDALORE\n",
      "\n",
      "unt\n",
      "\n",
      "QTY PRICE «ANT\n",
      "\n",
      " CHAPATHI OP 12.00 96.00\n",
      "CHICEEN ROAST == «-IPs«120.00 = 120.00\n",
      "EGG RGAST ip 35.00 55.00\n",
      "TOTAL T1EN(S)33 /G1'f210.000 27.90\n",
      "\n",
      "oer er renew eo ween man ener en ene mcm eniannnen anon ween ee FO\n",
      "\n",
      "on cine ti Gencisems man os ects manny nee Se eS ER ee\n",
      "\n",
      "THA YOU\n",
      "\n",
      "\n"
     ]
    }
   ],
   "source": [
    "text = extract_text(\"/InvoiceProcessing/data/preprocessed_invoice2.jpg\")\n",
    "print(text)"
   ]
  },
  {
   "cell_type": "code",
   "execution_count": 40,
   "metadata": {},
   "outputs": [
    {
     "name": "stdout",
     "output_type": "stream",
     "text": [
      "Fusion Company Ltd.\n",
      "101 Rocking Avenue\n",
      "suit # 30S\n",
      "Rolkata-700007\n",
      "\n",
      "West Bengal\n",
      "Phn: +91-33-2534-S061\n",
      "VAR Mo : Vat1Ss7es\n",
      "Retail Invoice\n",
      "\n",
      "Meamot 12/634 42:16 PM 27-Jan-2012\n",
      "\n",
      "ry 2\n",
      "2 Jw Black Lable 2 600.00 1200.00\n",
      "3 Chicken Drumsticks 4 160.00 180.00\n",
      "4 Charcoaled Pickle Prawn 1 180.00 180.00\n",
      "iS Chicken/lamb steak a 160.00 180.00\n",
      "6 Chinese Combo Chicken a 125.00 128.00\n",
      "7 Chandni Kebab Club 4 160.00 180.00\n",
      "S$ Asian Mixed Entree Platt 1 180.00 160.00\n",
      "kd a 225.00 225.00\n",
      "a 125.00 128.00\n",
      "1 125.00\n",
      "\n",
      "i Chinese Combo moodle\n",
      "[DCAM : 6126 4500.00\n",
      "(Rupees Four Thousand Five Hundred only)\n",
      "\n",
      "Pender: 4500.00\n",
      "Pay Mode:Cash: 4500.00\n",
      "\n",
      "\n"
     ]
    }
   ],
   "source": [
    "image = preprocess_image(\"/InvoiceProcessing/data/invoice3.jpg\")\n",
    "cv2.imwrite(\"/InvoiceProcessing/data/preprocessed_invoice3.jpg\", image)\n",
    "text = extract_text(\"/InvoiceProcessing/data/preprocessed_invoice3.jpg\")\n",
    "print(text)"
   ]
  },
  {
   "cell_type": "code",
   "execution_count": null,
   "metadata": {},
   "outputs": [],
   "source": []
  }
 ],
 "metadata": {
  "kernelspec": {
   "display_name": "Python 3",
   "language": "python",
   "name": "python3"
  },
  "language_info": {
   "codemirror_mode": {
    "name": "ipython",
    "version": 3
   },
   "file_extension": ".py",
   "mimetype": "text/x-python",
   "name": "python",
   "nbconvert_exporter": "python",
   "pygments_lexer": "ipython3",
   "version": "3.10.0"
  }
 },
 "nbformat": 4,
 "nbformat_minor": 2
}
